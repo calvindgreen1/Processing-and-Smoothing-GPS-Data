{
 "cells": [
  {
   "cell_type": "code",
   "execution_count": null,
   "metadata": {},
   "outputs": [],
   "source": [
    "import numpy as np\n",
    "import pandas as pd\n",
    "import matplotlib.pyplot as plt\n",
    "from statsmodels.nonparametric.smoothers_lowess import lowess\n",
    "%config InlineBackend.figure_format = 'svg'\n",
    "\n",
    "np.random.seed(3) # uncomment to get exactly the results from the slides"
   ]
  },
  {
   "cell_type": "code",
   "execution_count": null,
   "metadata": {},
   "outputs": [],
   "source": [
    "def plot_sin_cos(suffix, observations, sin_x, sin_y, cos_x, cos_y):\n",
    "    \"\"\"\n",
    "    Create a sin/cos plot as we want them\n",
    "    \"\"\"\n",
    "    fig = plt.figure(figsize=(8, 4))\n",
    "    fig.add_subplot(1, 2, 1)\n",
    "    plt.title('sin(x)' + suffix)\n",
    "    plt.ylim([-3, 3])\n",
    "    plt.plot(input_range, observations['sin'], 'b.', alpha=0.75)\n",
    "    if sin_x is not None:\n",
    "        plt.plot(sin_x, sin_y, 'r-', linewidth=2)\n",
    "\n",
    "    fig.add_subplot(1, 2, 2)\n",
    "    plt.title('cos(x)' + suffix)\n",
    "    plt.ylim([-3, 3])\n",
    "    plt.plot(input_range, observations['cos'], 'b.', alpha=0.75)\n",
    "    if cos_x is not None:\n",
    "        plt.plot(cos_x, cos_y, 'r-', linewidth=2)\n",
    "\n",
    "    plt.show()"
   ]
  },
  {
   "cell_type": "markdown",
   "metadata": {},
   "source": [
    "## Generate the Data"
   ]
  },
  {
   "cell_type": "code",
   "execution_count": null,
   "metadata": {},
   "outputs": [],
   "source": [
    "n_samples = 25\n",
    "\n",
    "input_range = np.linspace(0, 2*np.pi, n_samples, dtype=np.float)\n",
    "observations = pd.DataFrame()\n",
    "observations['sin'] = (np.sin(input_range)\n",
    "        + np.random.normal(0, 0.5, n_samples))\n",
    "observations['cos'] = (np.cos(input_range)\n",
    "        + np.random.normal(0, 0.25, n_samples))"
   ]
  },
  {
   "cell_type": "markdown",
   "metadata": {},
   "source": [
    "## Scatterplot"
   ]
  },
  {
   "cell_type": "code",
   "execution_count": null,
   "metadata": {},
   "outputs": [],
   "source": [
    "plot_sin_cos(' + noise', observations, None, None, None, None)"
   ]
  },
  {
   "cell_type": "markdown",
   "metadata": {},
   "source": [
    "## LOESS"
   ]
  },
  {
   "cell_type": "code",
   "execution_count": null,
   "metadata": {},
   "outputs": [],
   "source": [
    "smoothed_sin = lowess(observations['sin'], input_range, frac=0.4)\n",
    "smoothed_cos = lowess(observations['cos'], input_range, frac=0.3)"
   ]
  },
  {
   "cell_type": "code",
   "execution_count": null,
   "metadata": {},
   "outputs": [],
   "source": [
    "plot_sin_cos(': LOESS', observations, smoothed_sin[:, 0], smoothed_sin[:, 1], smoothed_cos[:, 0], smoothed_cos[:, 1])"
   ]
  },
  {
   "cell_type": "markdown",
   "metadata": {},
   "source": [
    "## Kalman Filtering: no predictions"
   ]
  },
  {
   "cell_type": "code",
   "execution_count": null,
   "metadata": {},
   "outputs": [],
   "source": [
    "from pykalman import KalmanFilter\n",
    "dim = 2\n",
    "initial_value_guess = observations.iloc[0]\n",
    "observation_covariance = np.diag([0.5, 0.25]) ** 2"
   ]
  },
  {
   "cell_type": "code",
   "execution_count": null,
   "metadata": {},
   "outputs": [],
   "source": [
    "kf = KalmanFilter(\n",
    "    initial_state_mean=initial_value_guess,\n",
    "    initial_state_covariance=observation_covariance,\n",
    "    observation_covariance=observation_covariance\n",
    ")\n",
    "pred_state, state_cov = kf.smooth(observations)"
   ]
  },
  {
   "cell_type": "code",
   "execution_count": null,
   "metadata": {},
   "outputs": [],
   "source": [
    "plot_sin_cos(': attempt 1', observations, input_range, pred_state[:, 0], input_range, pred_state[:, 1])"
   ]
  },
  {
   "cell_type": "markdown",
   "metadata": {},
   "source": [
    "## Kalman Filtering: good prediction"
   ]
  },
  {
   "cell_type": "code",
   "execution_count": null,
   "metadata": {},
   "outputs": [],
   "source": [
    "delta_t = np.pi * 2 / n_samples\n",
    "transition_matrix = [[1, delta_t], [-delta_t, 1]]\n",
    "transition_covariance = np.diag([0.2, 0.2]) ** 2\n",
    "kf = KalmanFilter(\n",
    "    initial_state_mean=initial_value_guess,\n",
    "    initial_state_covariance=observation_covariance,\n",
    "    observation_covariance=observation_covariance,\n",
    "    transition_covariance=transition_covariance,\n",
    "    transition_matrices=transition_matrix\n",
    ")\n",
    "pred_state, state_cov = kf.smooth(observations)\n"
   ]
  },
  {
   "cell_type": "code",
   "execution_count": null,
   "metadata": {},
   "outputs": [],
   "source": [
    "plot_sin_cos(': Kalman filtered', observations, input_range, pred_state[:, 0], input_range, pred_state[:, 1])"
   ]
  },
  {
   "cell_type": "code",
   "execution_count": null,
   "metadata": {},
   "outputs": [],
   "source": [
    "transition_matrix = [[1, -delta_t], [delta_t, 1]]\n",
    "kf = KalmanFilter(\n",
    "    initial_state_mean=initial_value_guess,\n",
    "    initial_state_covariance=observation_covariance,\n",
    "    observation_covariance=observation_covariance,\n",
    "    transition_covariance=transition_covariance,\n",
    "    transition_matrices=transition_matrix\n",
    ")\n",
    "pred_state, state_cov = kf.smooth(observations)"
   ]
  },
  {
   "cell_type": "code",
   "execution_count": null,
   "metadata": {},
   "outputs": [],
   "source": [
    "plot_sin_cos(': Kalman fail', observations, input_range, pred_state[:, 0], input_range, pred_state[:, 1])"
   ]
  },
  {
   "cell_type": "code",
   "execution_count": null,
   "metadata": {},
   "outputs": [],
   "source": []
  },
  {
   "cell_type": "code",
   "execution_count": null,
   "metadata": {},
   "outputs": [],
   "source": []
  }
 ],
 "metadata": {
  "kernelspec": {
   "display_name": "Python 3",
   "language": "python",
   "name": "python3"
  },
  "language_info": {
   "codemirror_mode": {
    "name": "ipython",
    "version": 3
   },
   "file_extension": ".py",
   "mimetype": "text/x-python",
   "name": "python",
   "nbconvert_exporter": "python",
   "pygments_lexer": "ipython3",
   "version": "3.8.3"
  }
 },
 "nbformat": 4,
 "nbformat_minor": 2
}
